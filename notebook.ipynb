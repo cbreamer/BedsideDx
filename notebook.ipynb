{
 "cells": [
  {
   "cell_type": "code",
   "execution_count": 1,
   "metadata": {},
   "outputs": [
    {
     "name": "stdout",
     "output_type": "stream",
     "text": [
      "Collecting extractous\n",
      "  Downloading extractous-0.3.0-cp38-abi3-macosx_11_0_arm64.whl.metadata (2.4 kB)\n",
      "Downloading extractous-0.3.0-cp38-abi3-macosx_11_0_arm64.whl (48.5 MB)\n",
      "\u001b[2K   \u001b[90m━━━━━━━━━━━━━━━━━━━━━━━━━━━━━━━━━━━━━━━━\u001b[0m \u001b[32m48.5/48.5 MB\u001b[0m \u001b[31m22.0 MB/s\u001b[0m eta \u001b[36m0:00:00\u001b[0m00:01\u001b[0m00:01\u001b[0m\n",
      "\u001b[?25hInstalling collected packages: extractous\n",
      "Successfully installed extractous-0.3.0\n",
      "\n",
      "\u001b[1m[\u001b[0m\u001b[34;49mnotice\u001b[0m\u001b[1;39;49m]\u001b[0m\u001b[39;49m A new release of pip is available: \u001b[0m\u001b[31;49m24.0\u001b[0m\u001b[39;49m -> \u001b[0m\u001b[32;49m24.3.1\u001b[0m\n",
      "\u001b[1m[\u001b[0m\u001b[34;49mnotice\u001b[0m\u001b[1;39;49m]\u001b[0m\u001b[39;49m To update, run: \u001b[0m\u001b[32;49mpip install --upgrade pip\u001b[0m\n"
     ]
    }
   ],
   "source": [
    "!pip install extractous"
   ]
  },
  {
   "cell_type": "code",
   "execution_count": 18,
   "metadata": {},
   "outputs": [
    {
     "name": "stdout",
     "output_type": "stream",
     "text": [
      "Text successfully saved to /Users/courtneyreamer/Documents/GitHub/BedsideDx/StanfordPE/Hand.txt\n"
     ]
    }
   ],
   "source": [
    "from extractous import Extractor\n",
    "\n",
    "# Initialize the extractor\n",
    "extractor = Extractor()\n",
    "\n",
    "# Extract text from the URL\n",
    "reader, metadata = extractor.extract_url(\"https://stanfordmedicine25.stanford.edu/the25/hand.html\")\n",
    "\n",
    "# Prepare to write the result to a file\n",
    "output_path = \"/Users/courtneyreamer/Documents/GitHub/BedsideDx/StanfordPE/Hand.txt\"\n",
    "result = \"\"\n",
    "\n",
    "# Read the extracted text in chunks and write to the file\n",
    "with open(output_path, \"w\", encoding=\"utf-8\") as file:\n",
    "    buffer = reader.read(4096)\n",
    "    while len(buffer) > 0:\n",
    "        text = buffer.decode(\"utf-8\")\n",
    "        file.write(text)  # Write directly to the file\n",
    "        buffer = reader.read(4096)\n",
    "\n",
    "print(f\"Text successfully saved to {output_path}\")\n"
   ]
  },
  {
   "cell_type": "code",
   "execution_count": 3,
   "metadata": {},
   "outputs": [
    {
     "name": "stdout",
     "output_type": "stream",
     "text": [
      "{'og:description': [\"Hip pain is really common. Sometimes the pain is coming from the hip joint. Other times, pain may be coming from other surrounding causes. Here, we'll review all causes of pain in the hip region and show you the exam to diagnose each one.\"], 'sp_som_brand_name': ['Stanford Medicine 25'], 'sp_som_root_name': ['stanfordmedicine25'], 'og:image': [''], 'template': ['/apps/sm/templates/mckinley/main'], 'Content-Length': ['299706'], 'dc:description': [\"Hip pain is really common. Sometimes the pain is coming from the hip joint. Other times, pain may be coming from other surrounding causes. Here, we'll review all causes of pain in the hip region and show you the exam to diagnose each one.\"], 'og:title': ['Hip Region Exam, Approach to'], 'og:type': ['website'], 'og:site_name': ['Stanford Medicine 25'], 'pageName': [' | stanfordmedicine25 | the25 | HipRegionExam'], 'publishDate': ['2019-09-03T10:33:33.724-07:00'], 'description': [\"Hip pain is really common. Sometimes the pain is coming from the hip joint. Other times, pain may be coming from other surrounding causes. Here, we'll review all causes of pain in the hip region and show you the exam to diagnose each one.\"], 'Content-Type-Hint': ['text/html; charset=UTF-8'], 'Content-Type': ['text/html; charset=UTF-8'], 'dc:title': ['Hip Region Exam, Approach to | Stanford Medicine 25 | Stanford Medicine'], 'twitter:creator': ['Stanford Medicine 25'], 'X-TIKA:Parsed-By': ['org.apache.tika.parser.DefaultParser', 'org.apache.tika.parser.html.HtmlParser'], 'Content-Language': ['en-US'], 'pageTypeDomain': ['SOM'], 'twitter:title': ['Hip Region Exam, Approach to'], 'viewport': ['width=device-width, initial-scale=1.0'], 'resourceName': ['HipRegionExam.html'], 'twitter:card': ['summary_large_image'], 'Content-Encoding': ['UTF-8'], 'twitter:description': [\"Hip pain is really common. Sometimes the pain is coming from the hip joint. Other times, pain may be coming from other surrounding causes. Here, we'll review all causes of pain in the hip region and show you the exam to diagnose each one.\"]}\n"
     ]
    }
   ],
   "source": [
    "print(metadata)"
   ]
  }
 ],
 "metadata": {
  "kernelspec": {
   "display_name": "venv",
   "language": "python",
   "name": "python3"
  },
  "language_info": {
   "codemirror_mode": {
    "name": "ipython",
    "version": 3
   },
   "file_extension": ".py",
   "mimetype": "text/x-python",
   "name": "python",
   "nbconvert_exporter": "python",
   "pygments_lexer": "ipython3",
   "version": "3.12.2"
  },
  "orig_nbformat": 4
 },
 "nbformat": 4,
 "nbformat_minor": 2
}
